{
 "cells": [
  {
   "cell_type": "markdown",
   "id": "533ac003-01ef-45d9-a41a-44eb91a6b7cc",
   "metadata": {},
   "source": [
    "## **Prueba** - Análisis Estadístico\n",
    "\n",
    "La OMS estima que cada año se producen 12 millones de muertes en todo el mundo debido a enfermedades cardíacas, producidas en su gran mayoría por enfermedades cardiovasculares. El pronóstico temprano de las enfermedades cardiovasculares puede ayudar en la toma de decisiones sobre cambios en el estilo de vida en pacientes de alto riesgo y reducir las complicaciones. La base de datos cardio.csv contiene mediciones realizadas a pacientes hace 10 años, entre los cuales se encuentran\n",
    "\n",
    "* **Sex:** M - F\n",
    "* **Age:** edad\n",
    "* **Education:** codificada, considerando que un valor más alto corresponde a un mayor nivel educativo.\n",
    "* **currentSmoker:** si el paciente es o no fumador actual\n",
    "* **cigsPerDay:** el número de cigarrillos que la persona fumaba en promedio en un día.\n",
    "* **BPMeds:** si el paciente estaba tomando medicamentos para la presión arterial (0: No, 1: Sí)\n",
    "* **prevalenStroke:** si el paciente había tenido un accidente cerebrovascular previamente (0: No, 1: Sí)\n",
    "* **prevalentHyp:** si el paciente era hipertenso o no (0: No, 1: Sí)\n",
    "* **diabetes:** si el paciente tenía diabetes o no (0: No, 1: Sí)\n",
    "* **totChol:** nivel de colesterol total\n",
    "* **sysBP:** presión arterial sistólica\n",
    "* **diaBP_BMI:** presión arterial diastólica\n",
    "* **BMI:** Índice de masa corporal\n",
    "* **heartRate:** ritmo cardíaco\n",
    "* **glucose:** nivel de glucosa\n",
    "* **TenYearCHD:** se indica si el paciente sufrió o no una enfermedad coronaria en los últimos 10 años.(0: No, 1: Sí)"
   ]
  },
  {
   "cell_type": "markdown",
   "id": "5e9d7c5c-b001-41ff-a97e-2ee3c7f41da5",
   "metadata": {},
   "source": [
    "### **Pregunta N°1**\n",
    "\n",
    "Carga los datos y explóralos. Elimina los datos nulos o incorrectos"
   ]
  },
  {
   "cell_type": "code",
   "execution_count": 96,
   "id": "ad230158-dd3f-441b-97d5-eaf0af37cd81",
   "metadata": {},
   "outputs": [],
   "source": [
    "# Librerías\n",
    "import pandas as pd\n",
    "import matplotlib.pyplot as plt\n",
    "import seaborn as sns\n",
    "from scipy.stats import norm\n",
    "import numpy as np"
   ]
  },
  {
   "cell_type": "code",
   "execution_count": 3,
   "id": "6f71fac1-4d7d-4127-9630-a4349ad0bfaa",
   "metadata": {},
   "outputs": [
    {
     "data": {
      "text/html": [
       "<div>\n",
       "<style scoped>\n",
       "    .dataframe tbody tr th:only-of-type {\n",
       "        vertical-align: middle;\n",
       "    }\n",
       "\n",
       "    .dataframe tbody tr th {\n",
       "        vertical-align: top;\n",
       "    }\n",
       "\n",
       "    .dataframe thead th {\n",
       "        text-align: right;\n",
       "    }\n",
       "</style>\n",
       "<table border=\"1\" class=\"dataframe\">\n",
       "  <thead>\n",
       "    <tr style=\"text-align: right;\">\n",
       "      <th></th>\n",
       "      <th>sex</th>\n",
       "      <th>age</th>\n",
       "      <th>education</th>\n",
       "      <th>currentSmoker</th>\n",
       "      <th>cigsPerDay</th>\n",
       "      <th>BPMeds</th>\n",
       "      <th>prevalentStroke</th>\n",
       "      <th>prevalentHyp</th>\n",
       "      <th>diabetes</th>\n",
       "      <th>totChol</th>\n",
       "      <th>sysBP</th>\n",
       "      <th>diaBP</th>\n",
       "      <th>BMI</th>\n",
       "      <th>heartRate</th>\n",
       "      <th>glucose</th>\n",
       "      <th>TenYearCHD</th>\n",
       "    </tr>\n",
       "  </thead>\n",
       "  <tbody>\n",
       "    <tr>\n",
       "      <th>0</th>\n",
       "      <td>M</td>\n",
       "      <td>39</td>\n",
       "      <td>4.0</td>\n",
       "      <td>No</td>\n",
       "      <td>0.0</td>\n",
       "      <td>0.0</td>\n",
       "      <td>0</td>\n",
       "      <td>0</td>\n",
       "      <td>0</td>\n",
       "      <td>195.0</td>\n",
       "      <td>106.0</td>\n",
       "      <td>70.0</td>\n",
       "      <td>26.97</td>\n",
       "      <td>80.0</td>\n",
       "      <td>77.0</td>\n",
       "      <td>0</td>\n",
       "    </tr>\n",
       "    <tr>\n",
       "      <th>1</th>\n",
       "      <td>F</td>\n",
       "      <td>46</td>\n",
       "      <td>2.0</td>\n",
       "      <td>No</td>\n",
       "      <td>0.0</td>\n",
       "      <td>0.0</td>\n",
       "      <td>0</td>\n",
       "      <td>0</td>\n",
       "      <td>0</td>\n",
       "      <td>250.0</td>\n",
       "      <td>121.0</td>\n",
       "      <td>81.0</td>\n",
       "      <td>28.73</td>\n",
       "      <td>95.0</td>\n",
       "      <td>76.0</td>\n",
       "      <td>0</td>\n",
       "    </tr>\n",
       "    <tr>\n",
       "      <th>2</th>\n",
       "      <td>M</td>\n",
       "      <td>48</td>\n",
       "      <td>1.0</td>\n",
       "      <td>Yes</td>\n",
       "      <td>20.0</td>\n",
       "      <td>0.0</td>\n",
       "      <td>0</td>\n",
       "      <td>0</td>\n",
       "      <td>0</td>\n",
       "      <td>245.0</td>\n",
       "      <td>127.5</td>\n",
       "      <td>80.0</td>\n",
       "      <td>25.34</td>\n",
       "      <td>75.0</td>\n",
       "      <td>70.0</td>\n",
       "      <td>0</td>\n",
       "    </tr>\n",
       "    <tr>\n",
       "      <th>3</th>\n",
       "      <td>F</td>\n",
       "      <td>61</td>\n",
       "      <td>3.0</td>\n",
       "      <td>Yes</td>\n",
       "      <td>30.0</td>\n",
       "      <td>0.0</td>\n",
       "      <td>0</td>\n",
       "      <td>1</td>\n",
       "      <td>0</td>\n",
       "      <td>225.0</td>\n",
       "      <td>150.0</td>\n",
       "      <td>95.0</td>\n",
       "      <td>28.58</td>\n",
       "      <td>65.0</td>\n",
       "      <td>103.0</td>\n",
       "      <td>1</td>\n",
       "    </tr>\n",
       "    <tr>\n",
       "      <th>4</th>\n",
       "      <td>F</td>\n",
       "      <td>46</td>\n",
       "      <td>3.0</td>\n",
       "      <td>Yes</td>\n",
       "      <td>23.0</td>\n",
       "      <td>0.0</td>\n",
       "      <td>0</td>\n",
       "      <td>0</td>\n",
       "      <td>0</td>\n",
       "      <td>285.0</td>\n",
       "      <td>130.0</td>\n",
       "      <td>84.0</td>\n",
       "      <td>23.10</td>\n",
       "      <td>85.0</td>\n",
       "      <td>85.0</td>\n",
       "      <td>0</td>\n",
       "    </tr>\n",
       "  </tbody>\n",
       "</table>\n",
       "</div>"
      ],
      "text/plain": [
       "  sex  age  education currentSmoker  cigsPerDay  BPMeds  prevalentStroke  \\\n",
       "0   M   39        4.0            No         0.0     0.0                0   \n",
       "1   F   46        2.0            No         0.0     0.0                0   \n",
       "2   M   48        1.0           Yes        20.0     0.0                0   \n",
       "3   F   61        3.0           Yes        30.0     0.0                0   \n",
       "4   F   46        3.0           Yes        23.0     0.0                0   \n",
       "\n",
       "   prevalentHyp  diabetes  totChol  sysBP  diaBP    BMI  heartRate  glucose  \\\n",
       "0             0         0    195.0  106.0   70.0  26.97       80.0     77.0   \n",
       "1             0         0    250.0  121.0   81.0  28.73       95.0     76.0   \n",
       "2             0         0    245.0  127.5   80.0  25.34       75.0     70.0   \n",
       "3             1         0    225.0  150.0   95.0  28.58       65.0    103.0   \n",
       "4             0         0    285.0  130.0   84.0  23.10       85.0     85.0   \n",
       "\n",
       "   TenYearCHD  \n",
       "0           0  \n",
       "1           0  \n",
       "2           0  \n",
       "3           1  \n",
       "4           0  "
      ]
     },
     "execution_count": 3,
     "metadata": {},
     "output_type": "execute_result"
    }
   ],
   "source": [
    "# Importación DataSet\n",
    "df = pd.read_csv(\"cardio.csv\")\n",
    "df.head()"
   ]
  },
  {
   "cell_type": "code",
   "execution_count": 28,
   "id": "79a60884-0a09-4e00-a626-f6a883a9a62a",
   "metadata": {},
   "outputs": [
    {
     "name": "stdout",
     "output_type": "stream",
     "text": [
      "<class 'pandas.core.frame.DataFrame'>\n",
      "Index: 3656 entries, 0 to 4237\n",
      "Data columns (total 16 columns):\n",
      " #   Column           Non-Null Count  Dtype  \n",
      "---  ------           --------------  -----  \n",
      " 0   sex              3656 non-null   object \n",
      " 1   age              3656 non-null   int64  \n",
      " 2   education        3656 non-null   float64\n",
      " 3   currentSmoker    3656 non-null   object \n",
      " 4   cigsPerDay       3656 non-null   float64\n",
      " 5   BPMeds           3656 non-null   float64\n",
      " 6   prevalentStroke  3656 non-null   int64  \n",
      " 7   prevalentHyp     3656 non-null   int64  \n",
      " 8   diabetes         3656 non-null   int64  \n",
      " 9   totChol          3656 non-null   float64\n",
      " 10  sysBP            3656 non-null   float64\n",
      " 11  diaBP            3656 non-null   float64\n",
      " 12  BMI              3656 non-null   float64\n",
      " 13  heartRate        3656 non-null   float64\n",
      " 14  glucose          3656 non-null   float64\n",
      " 15  TenYearCHD       3656 non-null   int64  \n",
      "dtypes: float64(9), int64(5), object(2)\n",
      "memory usage: 485.6+ KB\n"
     ]
    }
   ],
   "source": [
    "# Verificación de datos faltantes y su tipo de datos\n",
    "df.info()"
   ]
  },
  {
   "cell_type": "code",
   "execution_count": 29,
   "id": "310a93fb-bef3-480d-81f2-9ff0805386e0",
   "metadata": {},
   "outputs": [
    {
     "name": "stdout",
     "output_type": "stream",
     "text": [
      "<class 'pandas.core.frame.DataFrame'>\n",
      "Index: 3656 entries, 0 to 4237\n",
      "Data columns (total 16 columns):\n",
      " #   Column           Non-Null Count  Dtype  \n",
      "---  ------           --------------  -----  \n",
      " 0   sex              3656 non-null   object \n",
      " 1   age              3656 non-null   int64  \n",
      " 2   education        3656 non-null   float64\n",
      " 3   currentSmoker    3656 non-null   object \n",
      " 4   cigsPerDay       3656 non-null   float64\n",
      " 5   BPMeds           3656 non-null   float64\n",
      " 6   prevalentStroke  3656 non-null   int64  \n",
      " 7   prevalentHyp     3656 non-null   int64  \n",
      " 8   diabetes         3656 non-null   int64  \n",
      " 9   totChol          3656 non-null   float64\n",
      " 10  sysBP            3656 non-null   float64\n",
      " 11  diaBP            3656 non-null   float64\n",
      " 12  BMI              3656 non-null   float64\n",
      " 13  heartRate        3656 non-null   float64\n",
      " 14  glucose          3656 non-null   float64\n",
      " 15  TenYearCHD       3656 non-null   int64  \n",
      "dtypes: float64(9), int64(5), object(2)\n",
      "memory usage: 485.6+ KB\n"
     ]
    }
   ],
   "source": [
    "# Eliminamos registros que contengan almenos un campo null\n",
    "df.dropna(inplace=True)\n",
    "df.info()"
   ]
  },
  {
   "cell_type": "markdown",
   "id": "85ad0aff-564b-4134-9c24-c85d828d5d58",
   "metadata": {},
   "source": [
    "### **Pregunta N°2**\n",
    "Escoge tres variables cuantitativas y realiza un análisis descriptivo de ellas, utilizando indicadores y gráficos. ¿Cuaĺ presenta mayor dispersión?"
   ]
  },
  {
   "cell_type": "code",
   "execution_count": 34,
   "id": "beefb71b-2f1d-4afd-8e1f-7ab909662439",
   "metadata": {},
   "outputs": [
    {
     "data": {
      "text/html": [
       "<div>\n",
       "<style scoped>\n",
       "    .dataframe tbody tr th:only-of-type {\n",
       "        vertical-align: middle;\n",
       "    }\n",
       "\n",
       "    .dataframe tbody tr th {\n",
       "        vertical-align: top;\n",
       "    }\n",
       "\n",
       "    .dataframe thead th {\n",
       "        text-align: right;\n",
       "    }\n",
       "</style>\n",
       "<table border=\"1\" class=\"dataframe\">\n",
       "  <thead>\n",
       "    <tr style=\"text-align: right;\">\n",
       "      <th></th>\n",
       "      <th>age</th>\n",
       "      <th>totChol</th>\n",
       "      <th>BMI</th>\n",
       "    </tr>\n",
       "  </thead>\n",
       "  <tbody>\n",
       "    <tr>\n",
       "      <th>count</th>\n",
       "      <td>3656.000000</td>\n",
       "      <td>3656.000000</td>\n",
       "      <td>3656.000000</td>\n",
       "    </tr>\n",
       "    <tr>\n",
       "      <th>mean</th>\n",
       "      <td>49.557440</td>\n",
       "      <td>236.873085</td>\n",
       "      <td>25.784185</td>\n",
       "    </tr>\n",
       "    <tr>\n",
       "      <th>std</th>\n",
       "      <td>8.561133</td>\n",
       "      <td>44.096223</td>\n",
       "      <td>4.065913</td>\n",
       "    </tr>\n",
       "    <tr>\n",
       "      <th>min</th>\n",
       "      <td>32.000000</td>\n",
       "      <td>113.000000</td>\n",
       "      <td>15.540000</td>\n",
       "    </tr>\n",
       "    <tr>\n",
       "      <th>25%</th>\n",
       "      <td>42.000000</td>\n",
       "      <td>206.000000</td>\n",
       "      <td>23.080000</td>\n",
       "    </tr>\n",
       "    <tr>\n",
       "      <th>50%</th>\n",
       "      <td>49.000000</td>\n",
       "      <td>234.000000</td>\n",
       "      <td>25.380000</td>\n",
       "    </tr>\n",
       "    <tr>\n",
       "      <th>75%</th>\n",
       "      <td>56.000000</td>\n",
       "      <td>263.250000</td>\n",
       "      <td>28.040000</td>\n",
       "    </tr>\n",
       "    <tr>\n",
       "      <th>max</th>\n",
       "      <td>70.000000</td>\n",
       "      <td>600.000000</td>\n",
       "      <td>56.800000</td>\n",
       "    </tr>\n",
       "  </tbody>\n",
       "</table>\n",
       "</div>"
      ],
      "text/plain": [
       "               age      totChol          BMI\n",
       "count  3656.000000  3656.000000  3656.000000\n",
       "mean     49.557440   236.873085    25.784185\n",
       "std       8.561133    44.096223     4.065913\n",
       "min      32.000000   113.000000    15.540000\n",
       "25%      42.000000   206.000000    23.080000\n",
       "50%      49.000000   234.000000    25.380000\n",
       "75%      56.000000   263.250000    28.040000\n",
       "max      70.000000   600.000000    56.800000"
      ]
     },
     "execution_count": 34,
     "metadata": {},
     "output_type": "execute_result"
    }
   ],
   "source": [
    "selected_features = df[['age','totChol','BMI']]\n",
    "selected_features.describe()"
   ]
  },
  {
   "cell_type": "markdown",
   "id": "5644865f-710c-4a69-b112-76f25ac8df0c",
   "metadata": {},
   "source": [
    "Observamos que los 3 campos seleccionados, poseen una mediana muy similar a la media, lo que nos sugiere que siguen una distribución normal. Para esto realizaremos una prueba empírica para poder verificar si siguen dicho comportamiento:\n"
   ]
  },
  {
   "cell_type": "code",
   "execution_count": 51,
   "id": "bfd24533-d9c4-4184-8694-a7414fc13908",
   "metadata": {},
   "outputs": [
    {
     "name": "stdout",
     "output_type": "stream",
     "text": [
      "Concentración de los datos teóricos entre -1 y 1 desviación standard: 68.27%.\n",
      "Concentración de los datos teóricos entre -2 y 2 desviación standard: 95.45%.\n",
      "Concentración de los datos teóricos entre -3 y 3 desviación standard: 99.73%.\n"
     ]
    }
   ],
   "source": [
    "# Regla Empírica: Valores teóricos en una distribución normal\n",
    "print(f\"Concentración de los datos teóricos entre -1 y 1 desviación standard: {float(round((norm.cdf(1) - norm.cdf(-1)) * 100,2))}%.\")\n",
    "print(f\"Concentración de los datos teóricos entre -2 y 2 desviación standard: {float(round((norm.cdf(2) - norm.cdf(-2)) * 100,2))}%.\")\n",
    "print(f\"Concentración de los datos teóricos entre -3 y 3 desviación standard: {float(round((norm.cdf(3) - norm.cdf(-3)) * 100,2))}%.\")"
   ]
  },
  {
   "cell_type": "code",
   "execution_count": 71,
   "id": "2373dda3-d761-4f5c-9781-79be87560ca0",
   "metadata": {},
   "outputs": [
    {
     "name": "stdout",
     "output_type": "stream",
     "text": [
      "Concentración de los datos reales entre -1 y 1 desviación standard: 63.29%.\n",
      "Concentración de los datos reales entre -2 y 2 desviación standard: 98.33%.\n",
      "Concentración de los datos reales entre -3 y 3 desviación standard: 100.0%.\n"
     ]
    }
   ],
   "source": [
    "# Regla Empírica: Valores reales de variable \"Age\"\n",
    "total = selected_features.shape[0]\n",
    "media = selected_features['age'].mean()\n",
    "sigma = selected_features['age'].std()\n",
    "\n",
    "for i in range(3):\n",
    "    print(f\"Concentración de los datos reales entre -{i+1} y {i+1} desviación standard: {round(100 * (len(selected_features[(selected_features['age'] >= (media - (i+1)*sigma)) & (selected_features['age'] <= (media + (i+1)*sigma))]) / total),2)}%.\")"
   ]
  },
  {
   "cell_type": "code",
   "execution_count": 72,
   "id": "b73593bb-3e57-4f33-999d-f2c0351793f7",
   "metadata": {},
   "outputs": [
    {
     "name": "stdout",
     "output_type": "stream",
     "text": [
      "Concentración de los datos reales entre -1 y 1 desviación standard: 70.3%.\n",
      "Concentración de los datos reales entre -2 y 2 desviación standard: 96.39%.\n",
      "Concentración de los datos reales entre -3 y 3 desviación standard: 99.4%.\n"
     ]
    }
   ],
   "source": [
    "# Regla Empírica: Valores reales de variable \"totChol\"\n",
    "total = selected_features.shape[0]\n",
    "media = selected_features['totChol'].mean()\n",
    "sigma = selected_features['totChol'].std()\n",
    "\n",
    "for i in range(3):\n",
    "    print(f\"Concentración de los datos reales entre -{i+1} y {i+1} desviación standard: {round(100 * (len(selected_features[(selected_features['totChol'] >= (media - (i+1)*sigma)) & (selected_features['totChol'] <= (media + (i+1)*sigma))]) / total),2)}%.\")"
   ]
  },
  {
   "cell_type": "code",
   "execution_count": 73,
   "id": "04761d4b-7946-473f-90a0-90bd8c2dba59",
   "metadata": {},
   "outputs": [
    {
     "name": "stdout",
     "output_type": "stream",
     "text": [
      "Concentración de los datos reales entre -1 y 1 desviación standard: 72.98%.\n",
      "Concentración de los datos reales entre -2 y 2 desviación standard: 95.84%.\n",
      "Concentración de los datos reales entre -3 y 3 desviación standard: 98.61%.\n"
     ]
    }
   ],
   "source": [
    "# Regla Empírica: Valores reales de variable \"BMI\"\n",
    "total = selected_features.shape[0]\n",
    "media = selected_features['BMI'].mean()\n",
    "sigma = selected_features['BMI'].std()\n",
    "\n",
    "for i in range(3):\n",
    "    print(f\"Concentración de los datos reales entre -{i+1} y {i+1} desviación standard: {round(100 * (len(selected_features[(selected_features['BMI'] >= (media - (i+1)*sigma)) & (selected_features['BMI'] <= (media + (i+1)*sigma))]) / total),2)}%.\")"
   ]
  },
  {
   "cell_type": "markdown",
   "id": "904f4f53-0d43-4f3e-9e78-224ec89ca159",
   "metadata": {},
   "source": [
    "Al comparar los resultados reales versus a la concentración teórica que se debiese presentar, observamos que estos datos **no siguen el comportamiento de una distribución normal**. En los 3 casos podemos observar un sesgo positivo (a pesar de ser bastante similares).\n",
    "\n",
    "Para poder realizar la comparación de qué columna presenta una dispersión más amplia podemos realizar una comparativa mediante el cálculo de el `Coeficiente de Variación` para cada una de estas y así poder comparar peras con manzanas:"
   ]
  },
  {
   "cell_type": "code",
   "execution_count": 76,
   "id": "5634df8c-35d7-478c-91a4-3f0134776a4a",
   "metadata": {},
   "outputs": [],
   "source": [
    "# CV age\n",
    "cv_age = selected_features['age'].std() / selected_features['age'].mean()\n",
    "# CV totChol\n",
    "cv_totchol = selected_features['totChol'].std() / selected_features['totChol'].mean()\n",
    "# CV BMI\n",
    "cv_bmi = selected_features['BMI'].std() / selected_features['BMI'].mean()"
   ]
  },
  {
   "cell_type": "code",
   "execution_count": 110,
   "id": "06762bb5-91b3-44ed-9171-580e62e49929",
   "metadata": {},
   "outputs": [
    {
     "data": {
      "image/png": "[encoded data removed]",
      "text/plain": [
       "<Figure size 1000x500 with 1 Axes>"
      ]
     },
     "metadata": {},
     "output_type": "display_data"
    }
   ],
   "source": [
    "plt.figure(figsize=(10,5))\n",
    "\n",
    "# Info\n",
    "labels = ['CV Age', 'CV totChol', 'CV BMI']\n",
    "values = [cv_age, cv_totchol, cv_bmi]\n",
    "\n",
    "# Barplot Vertical\n",
    "plt.bar(labels, values, color='skyblue')\n",
    "plt.xlabel('Variable')\n",
    "plt.ylabel('Coeficiente de variación')\n",
    "plt.title('Coeficiente de Variación de Variables')\n",
    "plt.show()"
   ]
  },
  {
   "cell_type": "markdown",
   "id": "ce18fbde-fd93-4e90-9ca2-96b46b2978e0",
   "metadata": {},
   "source": [
    "El resultado nos indica que la columna **CV totChol**  es la que mayor dispersión presenta en sus datos."
   ]
  }
 ],
 "metadata": {
  "kernelspec": {
   "display_name": "Python 3 (ipykernel)",
   "language": "python",
   "name": "python3"
  },
  "language_info": {
   "codemirror_mode": {
    "name": "ipython",
    "version": 3
   },
   "file_extension": ".py",
   "mimetype": "text/x-python",
   "name": "python",
   "nbconvert_exporter": "python",
   "pygments_lexer": "ipython3",
   "version": "3.13.0"
  }
 },
 "nbformat": 4,
 "nbformat_minor": 5
}
